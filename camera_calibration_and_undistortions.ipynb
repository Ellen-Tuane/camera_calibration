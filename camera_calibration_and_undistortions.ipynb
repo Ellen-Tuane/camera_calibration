{
  "nbformat": 4,
  "nbformat_minor": 0,
  "metadata": {
    "colab": {
      "name": "Camera_calibration.ipynb",
      "provenance": [],
      "collapsed_sections": [],
      "authorship_tag": "ABX9TyO4HobzUNxb3kFg0kdku/Vf",
      "include_colab_link": true
    },
    "kernelspec": {
      "name": "python3",
      "display_name": "Python 3"
    },
    "language_info": {
      "name": "python"
    },
    "accelerator": "GPU"
  },
  "cells": [
    {
      "cell_type": "markdown",
      "metadata": {
        "id": "view-in-github",
        "colab_type": "text"
      },
      "source": [
        "<a href=\"https://colab.research.google.com/github/Ellen-Tuane/camera_calibration/blob/main/camera_calibration_and_undistortions.ipynb\" target=\"_parent\"><img src=\"https://colab.research.google.com/assets/colab-badge.svg\" alt=\"Open In Colab\"/></a>"
      ]
    },
    {
      "cell_type": "markdown",
      "source": [
        "# Camera Calibration and Distortion"
      ],
      "metadata": {
        "id": "C5ABAKjjHeCZ"
      }
    },
    {
      "cell_type": "markdown",
      "source": [
        "1 . Enable GPU on notbool settings: Edit > Notebook Settings > on hardware aceleration chosse GPU and save it."
      ],
      "metadata": {
        "id": "G-UI5XmMHd1L"
      }
    },
    {
      "cell_type": "markdown",
      "source": [
        "2 . Amount Google Drive to import **images**"
      ],
      "metadata": {
        "id": "EOcbIA5sHrTX"
      }
    },
    {
      "cell_type": "code",
      "execution_count": null,
      "metadata": {
        "id": "eEmFmUCImJjy"
      },
      "outputs": [],
      "source": [
        "from google.colab import drive\n",
        "drive.mount('/content/drive')"
      ]
    },
    {
      "cell_type": "markdown",
      "source": [
        "3 . Copy images from drive into images folder on colab"
      ],
      "metadata": {
        "id": "TLFqXuYgKcT4"
      }
    },
    {
      "cell_type": "code",
      "source": [
        "!cp -a /content/drive/MyDrive/yolov4/Calibration/.   /content/images/"
      ],
      "metadata": {
        "id": "snHuG-TCoWgT"
      },
      "execution_count": null,
      "outputs": []
    },
    {
      "cell_type": "markdown",
      "source": [
        "4. Move into images folder"
      ],
      "metadata": {
        "id": "7ST3t3DTKiSp"
      }
    },
    {
      "cell_type": "code",
      "source": [
        "%cd /content/images"
      ],
      "metadata": {
        "id": "oPt8f6Yjpytg"
      },
      "execution_count": null,
      "outputs": []
    },
    {
      "cell_type": "markdown",
      "source": [
        "5. Set directory where images output will be seved"
      ],
      "metadata": {
        "id": "g2eUkA6rKnB_"
      }
    },
    {
      "cell_type": "code",
      "source": [
        "save_path = '/content/drive/MyDrive/yolov4/calibration_output '"
      ],
      "metadata": {
        "id": "AziTWayEKXH7"
      },
      "execution_count": null,
      "outputs": []
    },
    {
      "cell_type": "markdown",
      "source": [
        "6 . Import Labraries"
      ],
      "metadata": {
        "id": "aJQSmUZ5Kz_C"
      }
    },
    {
      "cell_type": "code",
      "source": [
        "# Import required modules\n",
        "import cv2\n",
        "import numpy as np\n",
        "import os\n",
        "import glob"
      ],
      "metadata": {
        "id": "TYyVUxzZK--e"
      },
      "execution_count": null,
      "outputs": []
    },
    {
      "cell_type": "markdown",
      "source": [
        "7 . Set chessboard dimentions"
      ],
      "metadata": {
        "id": "aBPaDlgMLAnS"
      }
    },
    {
      "cell_type": "code",
      "source": [
        "# Define the dimensions of checkerboard\n",
        "CHECKERBOARD = (9, 6)"
      ],
      "metadata": {
        "id": "EnxAC2k_LIfP"
      },
      "execution_count": null,
      "outputs": []
    },
    {
      "cell_type": "markdown",
      "source": [
        "8 . Set image type"
      ],
      "metadata": {
        "id": "bDgCcK8yLZ0f"
      }
    },
    {
      "cell_type": "code",
      "source": [
        "# Extracting path of individual image stored in a given directory. Since no path is\n",
        "# specified, it will take current directory images files alone\n",
        "\n",
        "images = glob.glob('*.HEIC') # set image type (.png, .jpg, .jpeg, .HEIC, ...)\n",
        "\n",
        "print(len(images))"
      ],
      "metadata": {
        "id": "wZO8KlQWLTgi"
      },
      "execution_count": null,
      "outputs": []
    },
    {
      "cell_type": "markdown",
      "source": [
        "9 . Find chess board corners"
      ],
      "metadata": {
        "id": "X-Ki4JudMzlo"
      }
    },
    {
      "cell_type": "code",
      "source": [
        "# stop the iteration when specified accuracy, epsilon, is reached or\n",
        "# specified number of iterations are completed.\n",
        "criteria = (cv2.TERM_CRITERIA_EPS +\n",
        "            cv2.TERM_CRITERIA_MAX_ITER, 30, 0.001)\n",
        "\n",
        "\n",
        "# Vector for 3D points\n",
        "threedpoints = []\n",
        "\n",
        "# Vector for 2D points\n",
        "twodpoints = []\n",
        "\n",
        "\n",
        "# 3D points real world coordinates\n",
        "objectp3d = np.zeros((1, CHECKERBOARD[0]\n",
        "                    * CHECKERBOARD[1],\n",
        "                    3), np.float32)\n",
        "objectp3d[0, :, :2] = np.mgrid[0:CHECKERBOARD[0],\n",
        "                            0:CHECKERBOARD[1]].T.reshape(-1, 2)\n",
        "prev_img_shape = None\n",
        "\n",
        "\n",
        "for filename in images:\n",
        "    image = cv2.imread(filename)\n",
        "    grayColor = cv2.cvtColor(image, cv2.COLOR_BGR2GRAY)\n",
        "\n",
        "    # Find the chess board corners\n",
        "    # If desired number of corners are\n",
        "    # found in the image then ret = true\n",
        "    ret, corners = cv2.findChessboardCorners(grayColor, CHECKERBOARD, cv2.CALIB_CB_ADAPTIVE_THRESH + cv2.CALIB_CB_FAST_CHECK + cv2.CALIB_CB_NORMALIZE_IMAGE)\n",
        "\n",
        "    # If desired number of corners can be detected then,\n",
        "    # refine the pixel coordinates and display\n",
        "    # them on the images of checker board\n",
        "    if ret:\n",
        "        threedpoints.append(objectp3d)\n",
        "\n",
        "        # Refining pixel coordinates\n",
        "        # for given 2d points.\n",
        "        corners2 = cv2.cornerSubPix(grayColor, corners, (11, 11), (-1, -1), criteria)\n",
        "\n",
        "        twodpoints.append(corners2)\n",
        "\n",
        "        # Draw and display the corners\n",
        "        image = cv2.drawChessboardCorners(image, CHECKERBOARD, corners2, ret)\n",
        "        cv2.imwrite(f\"{save_path}/{filename}.jpg\", image)\n",
        "        # print(filename)\n",
        "            \n",
        "    else:\n",
        "        pass\n",
        "        # If for any reason cv can't find the chess board corners on an especific image, it will return the image name\n",
        "        print('error: ', filename)"
      ],
      "metadata": {
        "id": "zj_O6l6mmLZ0"
      },
      "execution_count": null,
      "outputs": []
    },
    {
      "cell_type": "markdown",
      "source": [
        "10 . Performe Calibration"
      ],
      "metadata": {
        "id": "wBXnjby1NNdW"
      }
    },
    {
      "cell_type": "code",
      "source": [
        "# Perform camera calibration by\n",
        "# passing the value of above found out 3D points (threedpoints)\n",
        "# and its corresponding pixel coordinates of the\n",
        "# detected corners (twodpoints)\n",
        "ret, matrix, distortion, r_vecs, t_vecs = cv2.calibrateCamera(threedpoints, twodpoints, grayColor.shape[::-1], None, None)\n",
        "\n",
        "\n",
        "# Displaying required output\n",
        "print(\" Camera matrix:\")\n",
        "print(matrix)\n",
        "\n",
        "print(\"\\n Distortion coefficient:\")\n",
        "print(distortion)\n",
        "\n",
        "print(\"\\n Rotation Vectors:\")\n",
        "print(r_vecs)\n",
        "\n",
        "print(\"\\n Translation Vectors:\")\n",
        "print(t_vecs)"
      ],
      "metadata": {
        "id": "gkvCR4lxLys-"
      },
      "execution_count": null,
      "outputs": []
    }
  ]
}